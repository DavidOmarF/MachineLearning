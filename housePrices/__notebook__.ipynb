{
 "cells": [
  {
   "cell_type": "markdown",
   "metadata": {
    "_cell_guid": "63ca1314-fda9-4475-aea3-9a6c2530b26f",
    "_uuid": "6bcf5c1f9f9f4fec83e8589b6f3b2aec7ce16da8"
   },
   "source": [
    "In the past, I've done some models using several libraries in Python without really understanding what I was doing. I want to implement multiple learning models, using less -or **none**- *pre-made* ML resources. I hope this will be reflected in a  deeper understanding on what each learning model does.\n",
    "\n",
    "This time, I'll be implementing **Linear regression** in Python.\n",
    "\n",
    "I'll be using `pandas` to import and process data sets, `numpy` to get useful linear algebra functions, and `pyplot` to plot graphics."
   ]
  },
  {
   "cell_type": "code",
   "execution_count": 1,
   "metadata": {
    "collapsed": true
   },
   "outputs": [],
   "source": [
    "# import libraries\n",
    "import numpy as np\n",
    "import pandas as pd\n",
    "import matplotlib.pyplot as plt"
   ]
  },
  {
   "cell_type": "markdown",
   "metadata": {},
   "source": [
    "## Import and examine data"
   ]
  },
  {
   "cell_type": "code",
   "execution_count": 2,
   "metadata": {
    "_cell_guid": "b656c633-b059-4e09-8c1b-a728b08ff496",
    "_uuid": "b0fa98fc93a37dbc6eb412771efede1c69f366da"
   },
   "outputs": [],
   "source": [
    "# import dataframe\n",
    "df = pd.read_csv('../input/kc_house_data.csv')"
   ]
  },
  {
   "cell_type": "markdown",
   "metadata": {
    "_cell_guid": "a86f29a8-45d7-4ae5-a802-1aa37c3488a2",
    "_uuid": "b62730933a7d65ea66a3b79934a0b8e9af1a45e9"
   },
   "source": [
    "By looking at the original dataset, I see that\n",
    "`df[2], price` will be `y`, my prediction target.\n",
    "`df[0], id` is not a predictor variable, so I won't include it in my feature matrix `X`, which is all of the remaining columns."
   ]
  },
  {
   "cell_type": "code",
   "execution_count": 3,
   "metadata": {
    "_cell_guid": "7c86b6ce-04bb-4db9-9f95-184e39f9087a",
    "_uuid": "420d5108300cf761a3241d74a45e0af1f9eb8601"
   },
   "outputs": [],
   "source": [
    "# This re-orders dataframe in a more convenient way for me to work in further steps.\n",
    "cols = ['id', 'price', 'floors', 'bedrooms', 'bathrooms', 'condition', 'grade', 'sqft_living',\n",
    "        'sqft_lot', 'sqft_above', 'sqft_basement', 'sqft_living15', 'sqft_lot15', 'view',\n",
    "        'waterfront', 'yr_built', 'yr_renovated', 'zipcode', 'lat', 'long', 'date']\n",
    "df = df[cols]\n",
    "\n",
    "# Get y (price), and X (feature matrix)\n",
    "y = df.iloc[:,1:2].copy()\n",
    "X = df.iloc[:,2:].copy()"
   ]
  },
  {
   "cell_type": "markdown",
   "metadata": {},
   "source": [
    "Now, I'll decide which features need to be normalized. To do that, I'll take a look at every feature, and its min and max values."
   ]
  },
  {
   "cell_type": "code",
   "execution_count": 4,
   "metadata": {
    "scrolled": true
   },
   "outputs": [
    {
     "name": "stdout",
     "output_type": "stream",
     "text": [
      "     floors  bedrooms  bathrooms  condition  grade  sqft_living  sqft_lot  \\\n",
      "min     1.0         0        0.0          1      1          290       520   \n",
      "max     3.5        33        8.0          5     13        13540   1651359   \n",
      "\n",
      "     sqft_above  sqft_basement  sqft_living15  sqft_lot15  view  waterfront  \\\n",
      "min         290              0            399         651     0           0   \n",
      "max        9410           4820           6210      871200     4           1   \n",
      "\n",
      "     yr_built  yr_renovated  zipcode      lat     long             date  \n",
      "min      1900             0    98001  47.1559 -122.519  20140502T000000  \n",
      "max      2015          2015    98199  47.7776 -121.315  20150527T000000  \n"
     ]
    }
   ],
   "source": [
    "# This generates a 2 x n matrix, with min and max values of every feature\n",
    "def minMax(x):\n",
    "    return pd.Series(index=['min','max'],data=[x.min(),x.max()])\n",
    "print (X.apply(minMax))"
   ]
  },
  {
   "cell_type": "markdown",
   "metadata": {},
   "source": [
    "`floors`, `bedrooms`, `bathrooms`, `condition`, `grade`, and `view` **can** be normalized and scaled, and doing isn't bad, so i'll do it.\n",
    "\n",
    "All `sqft_#` features **should** be normalized and scaled.\n",
    "\n",
    "`waterfront` acts like a boolean, and takes either 0 or 1. So I won't be normalizing it."
   ]
  },
  {
   "cell_type": "code",
   "execution_count": 5,
   "metadata": {
    "collapsed": true
   },
   "outputs": [],
   "source": [
    "# Array containing the indexes of the columns to normalize\n",
    "toNormalize = [0, 1, 2, 3, 4, 5, 6, 7, 8, 9, 10, 11]"
   ]
  },
  {
   "cell_type": "markdown",
   "metadata": {},
   "source": [
    "To normalize, we implement the mathematical model into a python function\n",
    "\n",
    "$$\n",
    "x_{i}:=\\dfrac{x_{i}−μ_{i}}{s_{i}}\n",
    "$$"
   ]
  },
  {
   "cell_type": "code",
   "execution_count": 6,
   "metadata": {},
   "outputs": [],
   "source": [
    "# X is the feature matrix, and a the array of the features to be normalized\n",
    "def normalize(X, arr):\n",
    "    X_norm = X[:]    # copy feature matrix\n",
    "    mu = []          # median matrix\n",
    "    sigma = []       # std matrix\n",
    "    for i in range(len(arr)):\n",
    "        mu.append(X_norm.iloc[:,arr[i]].mean())        # append median of (arr[i]th) column\n",
    "        sigma.append(X_norm.iloc[:,arr[i]].std())      # append std of (arr[i]th)column\n",
    "        # normalize (arr[i]th) column\n",
    "        X_norm.iloc[:,arr[i]] = (X_norm.iloc[:,arr[i]] - mu[i]) / sigma[i]\n",
    "    return mu, sigma, X_norm\n",
    "\n",
    "# mu list contains median of all normalized columns\n",
    "# sigma list contains std of all normalized columns\n",
    "# X_norm is X matrix normalized\n",
    "[mu, sigma, X_norm] = normalize(X, toNormalize)"
   ]
  },
  {
   "cell_type": "markdown",
   "metadata": {},
   "source": [
    "Now we modify X_norm, adding the intercept term.\n"
   ]
  }
 ],
 "metadata": {
  "kernelspec": {
   "display_name": "Python 3",
   "language": "python",
   "name": "python3"
  },
  "language_info": {
   "codemirror_mode": {
    "name": "ipython",
    "version": 3
   },
   "file_extension": ".py",
   "mimetype": "text/x-python",
   "name": "python",
   "nbconvert_exporter": "python",
   "pygments_lexer": "ipython3",
   "version": "3.6.1"
  }
 },
 "nbformat": 4,
 "nbformat_minor": 1
}
