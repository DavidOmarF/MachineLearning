{
  "nbformat": 4,
  "metadata": {
    "language_info": {
      "codemirror_mode": {
        "version": 3,
        "name": "ipython"
      },
      "pygments_lexer": "ipython3",
      "name": "python",
      "mimetype": "text/x-python",
      "version": "3.6.1",
      "file_extension": ".py",
      "nbconvert_exporter": "python"
    },
    "kernelspec": {
      "display_name": "Python 3",
      "language": "python",
      "name": "python3"
    }
  },
  "cells": [
    {
      "cell_type": "code",
      "outputs": [],
      "metadata": {
        "_cell_guid": "e73057a8-f6c2-4ac5-9e8c-62f2365c3424",
        "collapsed": true,
        "_uuid": "5726c1cddd83811ac375e2176b3e29b0726954f2"
      },
      "source": [
        "import numpy as np\n",
        "import pandas as pd\n",
        "import matplotlib.pyplot as plt\n",
        "import seaborn as sns\n",
        "from mpl_toolkits.basemap import Basemap\n",
        "from matplotlib import cm"
      ],
      "execution_count": 1
    },
    {
      "cell_type": "code",
      "outputs": [],
      "metadata": {
        "_cell_guid": "f398fc62-223f-44f0-a28b-1707684d59c7",
        "collapsed": true,
        "_uuid": "573e9ec6a3e30fc1cd0ae8b4a2920c7f391c9e12"
      },
      "source": [
        "## Import data\n",
        "df = pd.read_csv(\"../input/languoid.csv\")\n",
        "df_geo = pd.read_csv(\"../input/languages-and-dialects-geo.csv\")\n",
        "\n",
        "## Drop columns I won't be using\n",
        "df = df.drop(['description', 'markup_description', 'jsondata', 'hid'], axis = 1)"
      ],
      "execution_count": 2
    },
    {
      "cell_type": "code",
      "outputs": [],
      "metadata": {
        "_cell_guid": "aeb7e6dd-1f8b-4c5e-bb0b-b70fb62853c9",
        "collapsed": true,
        "_uuid": "17ea2f0d7ab552a0d9f3689801a28769367a482a"
      },
      "source": [
        "# ## Compare number of rows of df and df_geo\n",
        "# print(\"df rows:    \", df.shape[0])\n",
        "# print(\"df_geo rows:\", df_geo.shape[0])"
      ],
      "execution_count": 3
    },
    {
      "cell_type": "code",
      "outputs": [],
      "metadata": {
        "_cell_guid": "779be582-9018-4cd2-81db-089e714f4f00",
        "collapsed": true,
        "_uuid": "4b7ff54f58dd518a5c591c3fc291dd2c4efb713f"
      },
      "source": [
        "# ## Creating df_fam and updating df\n",
        "# df_fam = df[df['level'] == 'family'].reset_index().drop(['index'], axis = 1)\n",
        "# df = df[df['level'] != 'family'].reset_index().drop(['index'], axis = 1)"
      ],
      "execution_count": 4
    },
    {
      "cell_type": "code",
      "outputs": [],
      "metadata": {
        "_cell_guid": "8e657397-301f-4108-82ea-11177e5c115f",
        "collapsed": true,
        "_uuid": "4b4b49c2a4b781104568e06c019bb173ffdb47a0"
      },
      "source": [
        "# ## Compare outputs of describe() between df and df_geo\n",
        "# print(df.id.describe())\n",
        "# print(df_geo.id.describe())"
      ],
      "execution_count": 5
    },
    {
      "cell_type": "code",
      "outputs": [],
      "metadata": {
        "_cell_guid": "0e3c7044-ed69-479f-abd9-eb0a66f9994f",
        "collapsed": true,
        "_uuid": "362907d7306081b571057333177a986dfc85f701"
      },
      "source": [
        "# ## Sort them and merge df_geo.macroarea into df\n",
        "# df.sort_values('id', inplace = True)\n",
        "# df_geo.sort_values('id', inplace = True)\n",
        "# df = pd.concat([df, df_geo.macroarea], axis = 1)"
      ],
      "execution_count": 6
    },
    {
      "cell_type": "code",
      "outputs": [],
      "metadata": {
        "_cell_guid": "e5099098-6dc6-4583-a7ab-b8b5711d5790",
        "_uuid": "125b9a9d118d3a9f6f8d633827de00360dc485fe"
      },
      "source": [
        "df_geo = df_geo[['latitude', 'longitude', 'macroarea']]\n",
        "# df_macro = df_geo[['macroarea', 'latitude', 'longitude']].dropna()\n",
        "\n",
        "# df_macro = df[['latitude', 'longitude', 'macroarea']].dropna()\n",
        "areas = list(df_geo.macroarea.dropna().unique())\n",
        "area_c = ['#19BC9D','#E84C3D','#3297DB','#9A59B5','#F1C50E','#E77E22']\n",
        "area_v = []\n",
        "\n",
        "for a in areas:\n",
        "    area_v.append(df_geo[df_geo['macroarea'] == a])\n",
        "\n",
        "areas"
      ],
      "execution_count": 7
    },
    {
      "cell_type": "code",
      "outputs": [],
      "metadata": {
        "_cell_guid": "3b4d6b19-6f6f-4ec0-89b3-786ef0eb6e09",
        "_uuid": "ae3da31fa60fd1726117c162d06c7a6da80b55c7"
      },
      "source": [
        "west, east = -168, 192\n",
        "south,north = -60, 78\n",
        "\n",
        "cont_color = '#424242'\n",
        "sea_color = '#2E2E2E'\n",
        "\n",
        "fig = plt.figure(figsize=(16,9))\n",
        "m = Basemap(projection='merc', llcrnrlat=south, urcrnrlat=north,\n",
        "            llcrnrlon=west, urcrnrlon=east, resolution='c')\n",
        "m.drawmapboundary(fill_color= sea_color, zorder= 0);\n",
        "m.fillcontinents(color= cont_color, zorder = 1);\n",
        "\n",
        "for i in range(len(areas)):\n",
        "    x, y = m(area_v[i]['longitude'].values,\n",
        "             area_v[i]['latitude'].values)\n",
        "    m.scatter(x, y,\n",
        "              zorder=2,\n",
        "              alpha = .2,\n",
        "              c = area_c[i],\n",
        "              edgecolors= 'none',\n",
        "              s = 10);\n",
        "plt.title(\"Distribution of languoids all over the world\");"
      ],
      "execution_count": 8
    },
    {
      "cell_type": "code",
      "outputs": [],
      "metadata": {
        "_cell_guid": "209a7bdf-fabf-4b8e-9d2f-86267398a29c",
        "collapsed": true,
        "_uuid": "3acf1f7d996eb502ac764cb04f9268a7dc95952a"
      },
      "source": [
        "df_status = df[['latitude', 'longitude', 'status']].dropna()\n",
        "status = ['safe', 'vulnerable', 'critically endangered', 'definitely endangered', 'severely endangered', 'extinct']\n",
        "status\n",
        "status_c = ['#8BC34A', '#FAD550', '#FAAB4F', '#FA9150', '#FB6566', '#F73F63']\n",
        "\n",
        "status_v = []\n",
        "\n",
        "for s in status:\n",
        "    status_v.append(df_status[df_status['status'] == s])"
      ],
      "execution_count": 9
    },
    {
      "cell_type": "code",
      "outputs": [],
      "metadata": {
        "_cell_guid": "064610f0-1c14-4ca4-836d-8655d6bf3006",
        "_uuid": "882ee8eb3d2e4e849e494ac70f09a25fac4f9ea0"
      },
      "source": [
        "fig = plt.figure(figsize=(16,9))\n",
        "m = Basemap(projection='merc', llcrnrlat=south, urcrnrlat=north,\n",
        "            llcrnrlon=west, urcrnrlon=east, resolution='c')\n",
        "m.drawmapboundary(fill_color= sea_color, zorder= 0);\n",
        "m.fillcontinents(color= cont_color, zorder = 1);\n",
        "\n",
        "for i in range(len(areas)):\n",
        "    x, y = m(status_v[i]['longitude'].values,\n",
        "             status_v[i]['latitude'].values)\n",
        "    m.scatter(x, y,\n",
        "              zorder=2,\n",
        "              alpha =1,\n",
        "              c = status_c[i],\n",
        "              edgecolors= 'none',\n",
        "              s = 1);\n",
        "plt.title(\"Distribution of languoids all over the world\");"
      ],
      "execution_count": 10
    }
  ],
  "nbformat_minor": 1
}
